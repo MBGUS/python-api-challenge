{
 "cells": [
  {
   "cell_type": "markdown",
   "metadata": {},
   "source": [
    "# WeatherPy\n",
    "----\n",
    "\n",
    "#### Note\n",
    "* Instructions have been included for each segment. You do not have to follow them exactly, but they are included to help you think through the steps."
   ]
  },
  {
   "cell_type": "markdown",
   "metadata": {},
   "source": [
    "                                                CONCLUSIONS\n",
    "1. *Latitude vs Temperature*. There is a clear correlation in both plots (scatter & linear), with more than 70% of confidence we can declare when cities approach the equator (0 degrees Latitude) the level of temperature increase.\n",
    "2. *Latitude vs Humidity*. There is not clear correlation in both plots (scatter & linear), between these two variables. Even though, is interesting to see that there are more significant results scattered in the northern hemisphere than the southern, with 80 to 100% of humidity.\n",
    "3. *Latitude vs Cloudiness*. There is not clear correlation in both plots (scatter & linear), between these two variables. As same as Humidity, looks like there is a large cluster of observations in the northern hemisphere.\n",
    "4. *Latitude vs Wind Speed*. There is not clear correlation in both plots (scatter & linear), which is the parameter that has less correlation between them."
   ]
  },
  {
   "cell_type": "code",
   "execution_count": 1,
   "metadata": {
    "scrolled": true
   },
   "outputs": [
    {
     "data": {
      "text/plain": [
       "'http://api.openweathermap.org/data/2.5/weather?appid=965010596c72e3ffae1f9da4fdaa87ed&units=imperial&q='"
      ]
     },
     "execution_count": 1,
     "metadata": {},
     "output_type": "execute_result"
    }
   ],
   "source": [
    "# Dependencies and Setup\n",
    "import matplotlib.pyplot as plt\n",
    "import pandas as pd\n",
    "import numpy as np\n",
    "import requests\n",
    "import time\n",
    "from scipy.stats import linregress\n",
    "import scipy.stats as st\n",
    "\n",
    "# Import API key\n",
    "from api_keys import weather_api_key\n",
    "\n",
    "\n",
    "# Incorporated citipy to determine city based on latitude and longitude\n",
    "from citipy import citipy\n",
    "\n",
    "# Output File (CSV)\n",
    "output_data_file = \"output_data/cities.csv\"\n",
    "\n",
    "# Range of latitudes and longitudes\n",
    "lat_range = (-90, 90)\n",
    "lng_range = (-180, 180)\n",
    "\n",
    "# Chosing IMPERIAL due to the exercise is in Fahrenheit\n",
    "units = \"imperial\"\n",
    "\n",
    "# Print the URL for the Open Weather API\n",
    "url = \"http://api.openweathermap.org/data/2.5/weather?\"\n",
    "query_url = f\"{url}appid={weather_api_key}&units={units}&q=\"\n",
    "query_url"
   ]
  },
  {
   "cell_type": "markdown",
   "metadata": {},
   "source": [
    "## Generate Cities List"
   ]
  },
  {
   "cell_type": "code",
   "execution_count": 2,
   "metadata": {},
   "outputs": [
    {
     "data": {
      "text/plain": [
       "620"
      ]
     },
     "execution_count": 2,
     "metadata": {},
     "output_type": "execute_result"
    }
   ],
   "source": [
    "# List for holding lat_lngs and cities\n",
    "lat_lngs = []\n",
    "cities = []\n",
    "\n",
    "# Create a set of random lat and lng combinations\n",
    "lats = np.random.uniform(lat_range[0], lat_range[1], size=1500)\n",
    "lngs = np.random.uniform(lng_range[0], lng_range[1], size=1500)\n",
    "lat_lngs = zip(lats, lngs)\n",
    "\n",
    "# Identify nearest city for each lat, lng combination\n",
    "for lat_lng in lat_lngs:\n",
    "    city = citipy.nearest_city(lat_lng[0], lat_lng[1]).city_name\n",
    "    \n",
    "    # If the city is unique, then add it to a our cities list\n",
    "    if city not in cities:\n",
    "        cities.append(city)\n",
    "\n",
    "# Print the city count to confirm sufficient count\n",
    "len(cities)"
   ]
  },
  {
   "cell_type": "markdown",
   "metadata": {},
   "source": [
    "### Perform API Calls\n",
    "* Perform a weather check on each city using a series of successive API calls.\n",
    "* Include a print log of each city as it'sbeing processed (with the city number and city name).\n"
   ]
  },
  {
   "cell_type": "code",
   "execution_count": 3,
   "metadata": {
    "scrolled": true
   },
   "outputs": [
    {
     "name": "stdout",
     "output_type": "stream",
     "text": [
      "Beginning Data Retrieval     \n",
      "-----------------------------\n",
      "Processing Record 1 of Set 1 | grindavik\n",
      "Processing Record 2 of Set 1 | port alfred\n",
      "Processing Record 3 of Set 1 | aras\n",
      "Processing Record 4 of Set 1 | georgetown\n",
      "Processing Record 5 of Set 1 | rikitea\n",
      "Processing Record 6 of Set 1 | albany\n",
      "Processing Record 7 of Set 1 | busselton\n",
      "City not found.Skipping...\n",
      "Processing Record 9 of Set 1 | namatanai\n",
      "Processing Record 10 of Set 1 | jamestown\n",
      "Processing Record 11 of Set 1 | tooele\n",
      "Processing Record 12 of Set 1 | mount isa\n",
      "Processing Record 13 of Set 1 | malatya\n",
      "Processing Record 14 of Set 1 | san quintin\n",
      "Processing Record 15 of Set 1 | galveston\n",
      "Processing Record 16 of Set 1 | yellowknife\n",
      "Processing Record 17 of Set 1 | hollola\n",
      "Processing Record 18 of Set 1 | new norfolk\n",
      "Processing Record 19 of Set 1 | acarau\n",
      "Processing Record 20 of Set 1 | alta floresta\n",
      "Processing Record 21 of Set 1 | acton vale\n",
      "Processing Record 22 of Set 1 | bredasdorp\n",
      "Processing Record 23 of Set 1 | ushuaia\n",
      "Processing Record 24 of Set 1 | mataura\n",
      "Processing Record 25 of Set 1 | bluff\n",
      "Processing Record 26 of Set 1 | komsomolets\n",
      "Processing Record 27 of Set 1 | hobart\n",
      "Processing Record 28 of Set 1 | russell\n",
      "Processing Record 29 of Set 1 | honavar\n",
      "City not found.Skipping...\n",
      "Processing Record 31 of Set 1 | torbay\n",
      "Processing Record 32 of Set 1 | cape town\n",
      "Processing Record 33 of Set 1 | carutapera\n",
      "Processing Record 34 of Set 1 | gotsu\n",
      "Processing Record 35 of Set 1 | hilo\n",
      "Processing Record 36 of Set 1 | hithadhoo\n",
      "Processing Record 37 of Set 1 | chabahar\n",
      "Processing Record 38 of Set 1 | demirci\n",
      "Processing Record 39 of Set 1 | grande riviere du nord\n",
      "Processing Record 40 of Set 1 | stavern\n",
      "City not found.Skipping...\n",
      "Processing Record 42 of Set 1 | pevek\n",
      "Processing Record 43 of Set 1 | puerto ayora\n",
      "Processing Record 44 of Set 1 | hualmay\n",
      "Processing Record 45 of Set 1 | laramie\n",
      "Processing Record 46 of Set 1 | zhangjiakou\n",
      "Processing Record 47 of Set 1 | lebu\n",
      "Processing Record 48 of Set 1 | port pirie\n",
      "Processing Record 49 of Set 1 | qaanaaq\n",
      "City not found.Skipping...\n",
      "City not found.Skipping...\n",
      "Processing Record 2 of Set 2 | tarata\n",
      "Processing Record 3 of Set 2 | ukiah\n",
      "Processing Record 4 of Set 2 | dzhankoy\n",
      "Processing Record 5 of Set 2 | yar-sale\n",
      "Processing Record 6 of Set 2 | norman wells\n",
      "Processing Record 7 of Set 2 | dikson\n",
      "City not found.Skipping...\n",
      "Processing Record 9 of Set 2 | atuona\n",
      "Processing Record 10 of Set 2 | entebbe\n",
      "Processing Record 11 of Set 2 | tay ninh\n",
      "Processing Record 12 of Set 2 | santa cruz\n",
      "Processing Record 13 of Set 2 | conceicao do araguaia\n",
      "Processing Record 14 of Set 2 | komsomolskiy\n",
      "Processing Record 15 of Set 2 | moranbah\n",
      "Processing Record 16 of Set 2 | puerto escondido\n",
      "Processing Record 17 of Set 2 | lavrentiya\n",
      "Processing Record 18 of Set 2 | bereda\n",
      "City not found.Skipping...\n",
      "Processing Record 20 of Set 2 | kodiak\n",
      "Processing Record 21 of Set 2 | abu dhabi\n",
      "Processing Record 22 of Set 2 | kaeo\n",
      "Processing Record 23 of Set 2 | cayenne\n",
      "Processing Record 24 of Set 2 | margate\n",
      "Processing Record 25 of Set 2 | maniitsoq\n",
      "Processing Record 26 of Set 2 | namibe\n",
      "Processing Record 27 of Set 2 | yerbogachen\n",
      "City not found.Skipping...\n",
      "Processing Record 29 of Set 2 | khatanga\n",
      "Processing Record 30 of Set 2 | vardo\n",
      "Processing Record 31 of Set 2 | itaueira\n",
      "Processing Record 32 of Set 2 | ponta do sol\n",
      "Processing Record 33 of Set 2 | kapaa\n",
      "City not found.Skipping...\n",
      "Processing Record 35 of Set 2 | bombay\n",
      "Processing Record 36 of Set 2 | barra do garcas\n",
      "Processing Record 37 of Set 2 | manzanillo\n",
      "Processing Record 38 of Set 2 | alton\n",
      "Processing Record 39 of Set 2 | saint-philippe\n",
      "City not found.Skipping...\n",
      "Processing Record 41 of Set 2 | axim\n",
      "Processing Record 42 of Set 2 | bengkulu\n",
      "Processing Record 43 of Set 2 | pisco\n",
      "Processing Record 44 of Set 2 | tiksi\n",
      "Processing Record 45 of Set 2 | chuy\n",
      "Processing Record 46 of Set 2 | kingston\n",
      "Processing Record 47 of Set 2 | suluktu\n",
      "City not found.Skipping...\n",
      "City not found.Skipping...\n",
      "Processing Record 50 of Set 2 | fortuna\n",
      "City not found.Skipping...\n",
      "City not found.Skipping...\n",
      "Processing Record 3 of Set 3 | ust-kut\n",
      "Processing Record 4 of Set 3 | esmeraldas\n",
      "Processing Record 5 of Set 3 | esperance\n",
      "Processing Record 6 of Set 3 | sungaipenuh\n",
      "Processing Record 7 of Set 3 | nikolskoye\n",
      "Processing Record 8 of Set 3 | te anau\n",
      "Processing Record 9 of Set 3 | kaseda\n",
      "Processing Record 10 of Set 3 | hall\n",
      "Processing Record 11 of Set 3 | kurilsk\n",
      "Processing Record 12 of Set 3 | meulaboh\n",
      "Processing Record 13 of Set 3 | emporia\n",
      "Processing Record 14 of Set 3 | yatou\n",
      "Processing Record 15 of Set 3 | broome\n",
      "Processing Record 16 of Set 3 | barrow\n",
      "Processing Record 17 of Set 3 | punta arenas\n",
      "Processing Record 18 of Set 3 | ugoofaaru\n",
      "Processing Record 19 of Set 3 | imbituba\n",
      "Processing Record 20 of Set 3 | kargil\n",
      "Processing Record 21 of Set 3 | jhargram\n",
      "Processing Record 22 of Set 3 | were ilu\n",
      "Processing Record 23 of Set 3 | butaritari\n",
      "Processing Record 24 of Set 3 | avarua\n",
      "Processing Record 25 of Set 3 | saint george\n",
      "Processing Record 26 of Set 3 | arraial do cabo\n",
      "Processing Record 27 of Set 3 | east london\n",
      "Processing Record 28 of Set 3 | hasaki\n",
      "Processing Record 29 of Set 3 | turukhansk\n",
      "Processing Record 30 of Set 3 | batemans bay\n",
      "Processing Record 31 of Set 3 | cockburn town\n",
      "Processing Record 32 of Set 3 | cidreira\n",
      "Processing Record 33 of Set 3 | castro\n",
      "Processing Record 34 of Set 3 | olga\n",
      "Processing Record 35 of Set 3 | ilulissat\n",
      "Processing Record 36 of Set 3 | ulaanbaatar\n",
      "Processing Record 37 of Set 3 | half moon bay\n",
      "City not found.Skipping...\n",
      "Processing Record 39 of Set 3 | petropavlovsk-kamchatskiy\n",
      "Processing Record 40 of Set 3 | kunyang\n",
      "Processing Record 41 of Set 3 | nabire\n",
      "Processing Record 42 of Set 3 | geilo\n",
      "Processing Record 43 of Set 3 | sola\n",
      "Processing Record 44 of Set 3 | saskylakh\n",
      "Processing Record 45 of Set 3 | geraldton\n",
      "Processing Record 46 of Set 3 | tuktoyaktuk\n",
      "Processing Record 47 of Set 3 | takaka\n",
      "Processing Record 48 of Set 3 | pochutla\n",
      "Processing Record 49 of Set 3 | faanui\n",
      "Processing Record 50 of Set 3 | san\n",
      "Processing Record 1 of Set 4 | leningradskiy\n",
      "Processing Record 2 of Set 4 | nouadhibou\n",
      "Processing Record 3 of Set 4 | coihaique\n",
      "Processing Record 4 of Set 4 | broken hill\n",
      "Processing Record 5 of Set 4 | maragogi\n",
      "Processing Record 6 of Set 4 | wau\n",
      "Processing Record 7 of Set 4 | mackenzie\n",
      "Processing Record 8 of Set 4 | bemidji\n",
      "Processing Record 9 of Set 4 | karasburg\n",
      "Processing Record 10 of Set 4 | kholm\n",
      "Processing Record 11 of Set 4 | airai\n",
      "Processing Record 12 of Set 4 | werota\n",
      "Processing Record 13 of Set 4 | vaini\n",
      "Processing Record 14 of Set 4 | tlazazalca\n",
      "City not found.Skipping...\n",
      "Processing Record 16 of Set 4 | whitehorse\n",
      "Processing Record 17 of Set 4 | vanimo\n",
      "Processing Record 18 of Set 4 | padang\n",
      "Processing Record 19 of Set 4 | provideniya\n",
      "Processing Record 20 of Set 4 | lompoc\n",
      "Processing Record 21 of Set 4 | portland\n",
      "Processing Record 22 of Set 4 | kungurtug\n",
      "Processing Record 23 of Set 4 | iquique\n",
      "Processing Record 24 of Set 4 | naze\n",
      "Processing Record 25 of Set 4 | mar del plata\n",
      "Processing Record 26 of Set 4 | shuangyang\n",
      "Processing Record 27 of Set 4 | boda\n",
      "Processing Record 28 of Set 4 | paamiut\n",
      "Processing Record 29 of Set 4 | upernavik\n",
      "Processing Record 30 of Set 4 | souillac\n",
      "Processing Record 31 of Set 4 | biloela\n",
      "Processing Record 32 of Set 4 | sioux lookout\n",
      "Processing Record 33 of Set 4 | tasiilaq\n",
      "Processing Record 34 of Set 4 | carnarvon\n",
      "Processing Record 35 of Set 4 | bambous virieux\n",
      "Processing Record 36 of Set 4 | malakal\n",
      "Processing Record 37 of Set 4 | deep river\n",
      "Processing Record 38 of Set 4 | iranshahr\n",
      "Processing Record 39 of Set 4 | sao filipe\n",
      "Processing Record 40 of Set 4 | ancud\n",
      "Processing Record 41 of Set 4 | meshchovsk\n",
      "Processing Record 42 of Set 4 | bud\n",
      "Processing Record 43 of Set 4 | shimoda\n",
      "Processing Record 44 of Set 4 | severo-kurilsk\n",
      "Processing Record 45 of Set 4 | ketchikan\n",
      "Processing Record 46 of Set 4 | gat\n",
      "Processing Record 47 of Set 4 | bubaque\n",
      "Processing Record 48 of Set 4 | constitucion\n",
      "Processing Record 49 of Set 4 | alamogordo\n",
      "Processing Record 50 of Set 4 | san cristobal\n",
      "Processing Record 1 of Set 5 | codrington\n",
      "Processing Record 2 of Set 5 | fairbanks\n",
      "Processing Record 3 of Set 5 | mandera\n",
      "City not found.Skipping...\n"
     ]
    },
    {
     "name": "stdout",
     "output_type": "stream",
     "text": [
      "Processing Record 5 of Set 5 | fayaoue\n",
      "Processing Record 6 of Set 5 | port blair\n",
      "Processing Record 7 of Set 5 | victoria\n",
      "Processing Record 8 of Set 5 | klaksvik\n",
      "Processing Record 9 of Set 5 | alofi\n",
      "Processing Record 10 of Set 5 | longyearbyen\n",
      "Processing Record 11 of Set 5 | nanortalik\n",
      "Processing Record 12 of Set 5 | karaton\n",
      "Processing Record 13 of Set 5 | kostolac\n",
      "City not found.Skipping...\n",
      "Processing Record 15 of Set 5 | ostrovnoy\n",
      "Processing Record 16 of Set 5 | tagusao\n",
      "Processing Record 17 of Set 5 | kavieng\n",
      "Processing Record 18 of Set 5 | college\n",
      "Processing Record 19 of Set 5 | kushima\n",
      "Processing Record 20 of Set 5 | leninkent\n",
      "Processing Record 21 of Set 5 | bethel\n",
      "Processing Record 22 of Set 5 | honiara\n",
      "Processing Record 23 of Set 5 | san luis\n",
      "Processing Record 24 of Set 5 | hermanus\n",
      "Processing Record 25 of Set 5 | ellisras\n",
      "Processing Record 26 of Set 5 | marsa matruh\n",
      "Processing Record 27 of Set 5 | brokopondo\n",
      "Processing Record 28 of Set 5 | weligama\n",
      "Processing Record 29 of Set 5 | kutum\n",
      "Processing Record 30 of Set 5 | newport\n",
      "Processing Record 31 of Set 5 | la rioja\n",
      "Processing Record 32 of Set 5 | hofn\n",
      "City not found.Skipping...\n",
      "Processing Record 34 of Set 5 | vila do maio\n",
      "Processing Record 35 of Set 5 | nome\n",
      "Processing Record 36 of Set 5 | lohr\n",
      "Processing Record 37 of Set 5 | chernyshevskiy\n",
      "Processing Record 38 of Set 5 | khasan\n",
      "Processing Record 39 of Set 5 | urumqi\n",
      "Processing Record 40 of Set 5 | vestmannaeyjar\n",
      "Processing Record 41 of Set 5 | biak\n",
      "Processing Record 42 of Set 5 | bilma\n",
      "Processing Record 43 of Set 5 | loiza\n",
      "Processing Record 44 of Set 5 | visnes\n",
      "Processing Record 45 of Set 5 | lagoa\n",
      "Processing Record 46 of Set 5 | brazzaville\n",
      "Processing Record 47 of Set 5 | greeley\n",
      "Processing Record 48 of Set 5 | kavaratti\n",
      "Processing Record 49 of Set 5 | tessalit\n",
      "Processing Record 50 of Set 5 | san ignacio\n",
      "Processing Record 1 of Set 6 | araouane\n",
      "Processing Record 2 of Set 6 | haysville\n",
      "Processing Record 3 of Set 6 | grammenitsa\n",
      "Processing Record 4 of Set 6 | vinh\n",
      "Processing Record 5 of Set 6 | ambilobe\n",
      "Processing Record 6 of Set 6 | aketi\n",
      "Processing Record 7 of Set 6 | muravlenko\n",
      "Processing Record 8 of Set 6 | okahandja\n",
      "Processing Record 9 of Set 6 | katobu\n",
      "Processing Record 10 of Set 6 | ewa beach\n",
      "Processing Record 11 of Set 6 | ambon\n",
      "Processing Record 12 of Set 6 | zhangye\n",
      "Processing Record 13 of Set 6 | cabo san lucas\n",
      "Processing Record 14 of Set 6 | saint anthony\n",
      "Processing Record 15 of Set 6 | ambulu\n",
      "Processing Record 16 of Set 6 | ganzhou\n",
      "Processing Record 17 of Set 6 | dingle\n",
      "Processing Record 18 of Set 6 | kachug\n",
      "Processing Record 19 of Set 6 | magan\n",
      "Processing Record 20 of Set 6 | yulara\n",
      "Processing Record 21 of Set 6 | ikirun\n",
      "Processing Record 22 of Set 6 | acapulco\n",
      "City not found.Skipping...\n",
      "Processing Record 24 of Set 6 | saint-augustin\n",
      "Processing Record 25 of Set 6 | dibulla\n",
      "Processing Record 26 of Set 6 | takoradi\n",
      "Processing Record 27 of Set 6 | pundaguitan\n",
      "Processing Record 28 of Set 6 | pangkalanbuun\n",
      "Processing Record 29 of Set 6 | anloga\n",
      "City not found.Skipping...\n",
      "Processing Record 31 of Set 6 | rocha\n",
      "City not found.Skipping...\n",
      "Processing Record 33 of Set 6 | mahebourg\n",
      "Processing Record 34 of Set 6 | la ronge\n",
      "Processing Record 35 of Set 6 | agramonte\n",
      "Processing Record 36 of Set 6 | dunedin\n",
      "City not found.Skipping...\n",
      "Processing Record 38 of Set 6 | krasnyy chikoy\n",
      "Processing Record 39 of Set 6 | manokwari\n",
      "Processing Record 40 of Set 6 | mandan\n",
      "Processing Record 41 of Set 6 | kondopoga\n",
      "Processing Record 42 of Set 6 | hami\n",
      "Processing Record 43 of Set 6 | jiaocheng\n",
      "Processing Record 44 of Set 6 | karratha\n",
      "Processing Record 45 of Set 6 | huarmey\n",
      "Processing Record 46 of Set 6 | kailua\n",
      "Processing Record 47 of Set 6 | mildura\n",
      "Processing Record 48 of Set 6 | kirakira\n",
      "Processing Record 49 of Set 6 | cortland\n",
      "City not found.Skipping...\n",
      "Processing Record 1 of Set 7 | kyra\n",
      "Processing Record 2 of Set 7 | casa nova\n",
      "Processing Record 3 of Set 7 | escanaba\n",
      "Processing Record 4 of Set 7 | dabrowa tarnowska\n",
      "Processing Record 5 of Set 7 | syracuse\n",
      "Processing Record 6 of Set 7 | iwakuni\n",
      "Processing Record 7 of Set 7 | guerrero negro\n",
      "Processing Record 8 of Set 7 | vicksburg\n",
      "Processing Record 9 of Set 7 | chai nat\n",
      "Processing Record 10 of Set 7 | lata\n",
      "Processing Record 11 of Set 7 | berberati\n",
      "Processing Record 12 of Set 7 | kruisfontein\n",
      "Processing Record 13 of Set 7 | kincardine\n",
      "Processing Record 14 of Set 7 | sinop\n",
      "Processing Record 15 of Set 7 | jonkoping\n",
      "City not found.Skipping...\n",
      "Processing Record 17 of Set 7 | bairnsdale\n",
      "Processing Record 18 of Set 7 | worland\n",
      "Processing Record 19 of Set 7 | roma\n",
      "Processing Record 20 of Set 7 | aksarayskiy\n",
      "Processing Record 21 of Set 7 | wabana\n",
      "Processing Record 22 of Set 7 | baruun-urt\n",
      "Processing Record 23 of Set 7 | kimbe\n",
      "Processing Record 24 of Set 7 | quatre cocos\n",
      "Processing Record 25 of Set 7 | vila franca do campo\n",
      "Processing Record 26 of Set 7 | vaitape\n",
      "Processing Record 27 of Set 7 | talnakh\n",
      "Processing Record 28 of Set 7 | rudnogorsk\n",
      "Processing Record 29 of Set 7 | touros\n",
      "Processing Record 30 of Set 7 | babu\n",
      "City not found.Skipping...\n",
      "Processing Record 32 of Set 7 | liliani\n",
      "Processing Record 33 of Set 7 | obama\n",
      "Processing Record 34 of Set 7 | ampanihy\n",
      "City not found.Skipping...\n",
      "Processing Record 36 of Set 7 | ribeira grande\n",
      "Processing Record 37 of Set 7 | okmulgee\n",
      "City not found.Skipping...\n",
      "Processing Record 39 of Set 7 | harlingen\n",
      "Processing Record 40 of Set 7 | riyadh\n",
      "Processing Record 41 of Set 7 | sistranda\n",
      "Processing Record 42 of Set 7 | aguimes\n",
      "Processing Record 43 of Set 7 | kahului\n",
      "Processing Record 44 of Set 7 | noumea\n",
      "City not found.Skipping...\n",
      "Processing Record 46 of Set 7 | cahuacan\n",
      "Processing Record 47 of Set 7 | bathsheba\n",
      "City not found.Skipping...\n",
      "Processing Record 49 of Set 7 | boa vista\n",
      "Processing Record 50 of Set 7 | pacific grove\n",
      "Processing Record 1 of Set 8 | mudigere\n",
      "Processing Record 2 of Set 8 | zorritos\n",
      "Processing Record 3 of Set 8 | shaghat\n",
      "Processing Record 4 of Set 8 | iqaluit\n",
      "Processing Record 5 of Set 8 | aleksin\n",
      "Processing Record 6 of Set 8 | labuhan\n",
      "Processing Record 7 of Set 8 | dandong\n",
      "Processing Record 8 of Set 8 | mbuji-mayi\n",
      "Processing Record 9 of Set 8 | san juan\n",
      "Processing Record 10 of Set 8 | port hardy\n",
      "City not found.Skipping...\n",
      "Processing Record 12 of Set 8 | aleksandrov gay\n",
      "Processing Record 13 of Set 8 | anadyr\n",
      "Processing Record 14 of Set 8 | ballina\n",
      "Processing Record 15 of Set 8 | monrovia\n",
      "Processing Record 16 of Set 8 | nishihara\n",
      "Processing Record 17 of Set 8 | male\n",
      "Processing Record 18 of Set 8 | vrangel\n",
      "City not found.Skipping...\n",
      "Processing Record 20 of Set 8 | emerald\n",
      "Processing Record 21 of Set 8 | kaitangata\n",
      "City not found.Skipping...\n",
      "City not found.Skipping...\n",
      "Processing Record 24 of Set 8 | kieta\n",
      "Processing Record 25 of Set 8 | kamiiso\n",
      "Processing Record 26 of Set 8 | maceio\n",
      "Processing Record 27 of Set 8 | juneau\n",
      "Processing Record 28 of Set 8 | shelburne\n",
      "Processing Record 29 of Set 8 | lahaina\n",
      "City not found.Skipping...\n",
      "City not found.Skipping...\n",
      "Processing Record 32 of Set 8 | mayo\n",
      "Processing Record 33 of Set 8 | faya\n",
      "Processing Record 34 of Set 8 | vila velha\n",
      "Processing Record 35 of Set 8 | batu gajah\n",
      "Processing Record 36 of Set 8 | port elizabeth\n",
      "City not found.Skipping...\n",
      "Processing Record 38 of Set 8 | kotelnich\n",
      "Processing Record 39 of Set 8 | grand gaube\n",
      "Processing Record 40 of Set 8 | xining\n",
      "Processing Record 41 of Set 8 | barrhead\n",
      "Processing Record 42 of Set 8 | cherskiy\n",
      "Processing Record 43 of Set 8 | kathu\n",
      "Processing Record 44 of Set 8 | dolores\n",
      "City not found.Skipping...\n",
      "Processing Record 46 of Set 8 | cap malheureux\n",
      "Processing Record 47 of Set 8 | kaohsiung\n",
      "Processing Record 48 of Set 8 | kizilskoye\n",
      "Processing Record 49 of Set 8 | haines junction\n",
      "Processing Record 50 of Set 8 | tierra colorada\n",
      "Processing Record 1 of Set 9 | teya\n",
      "Processing Record 2 of Set 9 | sinnamary\n",
      "Processing Record 3 of Set 9 | svetlyy\n",
      "Processing Record 4 of Set 9 | nara\n",
      "Processing Record 5 of Set 9 | trairi\n",
      "Processing Record 6 of Set 9 | nigde\n",
      "Processing Record 7 of Set 9 | moussoro\n",
      "City not found.Skipping...\n",
      "Processing Record 9 of Set 9 | bonthe\n",
      "Processing Record 10 of Set 9 | los alamos\n",
      "Processing Record 11 of Set 9 | berlevag\n",
      "Processing Record 12 of Set 9 | eydhafushi\n"
     ]
    },
    {
     "name": "stdout",
     "output_type": "stream",
     "text": [
      "City not found.Skipping...\n",
      "Processing Record 14 of Set 9 | walvis bay\n",
      "Processing Record 15 of Set 9 | krasnoselkup\n",
      "Processing Record 16 of Set 9 | kumluca\n",
      "Processing Record 17 of Set 9 | strezhevoy\n",
      "Processing Record 18 of Set 9 | roebourne\n",
      "Processing Record 19 of Set 9 | labelle\n",
      "Processing Record 20 of Set 9 | severo-yeniseyskiy\n",
      "Processing Record 21 of Set 9 | ojinaga\n",
      "Processing Record 22 of Set 9 | abalak\n",
      "Processing Record 23 of Set 9 | portgordon\n",
      "Processing Record 24 of Set 9 | altamira\n",
      "Processing Record 25 of Set 9 | belyy yar\n",
      "Processing Record 26 of Set 9 | naryan-mar\n",
      "City not found.Skipping...\n",
      "Processing Record 28 of Set 9 | sabla\n",
      "Processing Record 29 of Set 9 | omboue\n",
      "Processing Record 30 of Set 9 | gemena\n",
      "Processing Record 31 of Set 9 | tuatapere\n",
      "Processing Record 32 of Set 9 | taikang\n",
      "Processing Record 33 of Set 9 | tual\n",
      "Processing Record 34 of Set 9 | bambanglipuro\n",
      "Processing Record 35 of Set 9 | larsnes\n",
      "Processing Record 36 of Set 9 | verkhnevilyuysk\n",
      "Processing Record 37 of Set 9 | moctezuma\n",
      "Processing Record 38 of Set 9 | sao francisco\n",
      "Processing Record 39 of Set 9 | taonan\n",
      "Processing Record 40 of Set 9 | roald\n",
      "Processing Record 41 of Set 9 | kamenka\n",
      "City not found.Skipping...\n",
      "Processing Record 43 of Set 9 | aquiraz\n",
      "Processing Record 44 of Set 9 | sarankhola\n",
      "Processing Record 45 of Set 9 | port macquarie\n",
      "Processing Record 46 of Set 9 | chumikan\n",
      "Processing Record 47 of Set 9 | divnogorsk\n",
      "Processing Record 48 of Set 9 | jalu\n",
      "City not found.Skipping...\n",
      "Processing Record 50 of Set 9 | seoul\n",
      "Processing Record 1 of Set 10 | chauk\n",
      "Processing Record 2 of Set 10 | coquimbo\n",
      "Processing Record 3 of Set 10 | thompson\n",
      "Processing Record 4 of Set 10 | williams lake\n",
      "Processing Record 5 of Set 10 | cairns\n",
      "Processing Record 6 of Set 10 | chokurdakh\n",
      "Processing Record 7 of Set 10 | los llanos de aridane\n",
      "Processing Record 8 of Set 10 | bang saphan\n",
      "Processing Record 9 of Set 10 | jertih\n",
      "Processing Record 10 of Set 10 | port-gentil\n",
      "Processing Record 11 of Set 10 | edd\n",
      "Processing Record 12 of Set 10 | tsiroanomandidy\n",
      "Processing Record 13 of Set 10 | makakilo city\n",
      "Processing Record 14 of Set 10 | utinga\n",
      "Processing Record 15 of Set 10 | dengzhou\n",
      "Processing Record 16 of Set 10 | lishan\n",
      "Processing Record 17 of Set 10 | fairview heights\n",
      "Processing Record 18 of Set 10 | kedrovyy\n",
      "Processing Record 19 of Set 10 | makubetsu\n",
      "Processing Record 20 of Set 10 | da lat\n",
      "Processing Record 21 of Set 10 | kemijarvi\n",
      "Processing Record 22 of Set 10 | norden\n",
      "Processing Record 23 of Set 10 | bay roberts\n",
      "Processing Record 24 of Set 10 | adjumani\n",
      "Processing Record 25 of Set 10 | tommot\n",
      "Processing Record 26 of Set 10 | avera\n",
      "Processing Record 27 of Set 10 | porto novo\n",
      "Processing Record 28 of Set 10 | lubsko\n",
      "Processing Record 29 of Set 10 | monterey\n",
      "Processing Record 30 of Set 10 | nhulunbuy\n",
      "Processing Record 31 of Set 10 | baykit\n",
      "Processing Record 32 of Set 10 | ordu\n",
      "Processing Record 33 of Set 10 | zhigalovo\n",
      "Processing Record 34 of Set 10 | eldama ravine\n",
      "Processing Record 35 of Set 10 | pachino\n",
      "Processing Record 36 of Set 10 | wlodawa\n",
      "Processing Record 37 of Set 10 | viloco\n",
      "Processing Record 38 of Set 10 | rocky river\n",
      "City not found.Skipping...\n",
      "Processing Record 40 of Set 10 | emba\n",
      "Processing Record 41 of Set 10 | saint-francois\n",
      "Processing Record 42 of Set 10 | luderitz\n",
      "Processing Record 43 of Set 10 | chongoyape\n",
      "City not found.Skipping...\n",
      "Processing Record 45 of Set 10 | hirara\n",
      "City not found.Skipping...\n",
      "Processing Record 47 of Set 10 | el cope\n",
      "Processing Record 48 of Set 10 | mitsamiouli\n",
      "Processing Record 49 of Set 10 | tarko-sale\n",
      "Processing Record 50 of Set 10 | korla\n",
      "Processing Record 1 of Set 11 | korsakov\n",
      "Processing Record 2 of Set 11 | zhigansk\n",
      "Processing Record 3 of Set 11 | casino\n",
      "Processing Record 4 of Set 11 | sorong\n",
      "Processing Record 5 of Set 11 | bereznik\n",
      "Processing Record 6 of Set 11 | amahai\n",
      "Processing Record 7 of Set 11 | lhokseumawe\n",
      "Processing Record 8 of Set 11 | masuguru\n",
      "Processing Record 9 of Set 11 | magdagachi\n",
      "Processing Record 10 of Set 11 | antibes\n",
      "Processing Record 11 of Set 11 | clyde river\n",
      "Processing Record 12 of Set 11 | rizhao\n",
      "Processing Record 13 of Set 11 | ushtobe\n",
      "Processing Record 14 of Set 11 | valdivia\n",
      "Processing Record 15 of Set 11 | warman\n",
      "Processing Record 16 of Set 11 | olafsvik\n",
      "Processing Record 17 of Set 11 | sinnar\n",
      "Processing Record 18 of Set 11 | gamba\n",
      "Processing Record 19 of Set 11 | maraa\n",
      "Processing Record 20 of Set 11 | saldanha\n",
      "Processing Record 21 of Set 11 | port-cartier\n",
      "Processing Record 22 of Set 11 | buenos aires\n",
      "Processing Record 23 of Set 11 | kibondo\n",
      "Processing Record 24 of Set 11 | leganes\n",
      "Processing Record 25 of Set 11 | caraballeda\n",
      "Processing Record 26 of Set 11 | lotofaga\n",
      "Processing Record 27 of Set 11 | shingu\n",
      "Processing Record 28 of Set 11 | nagato\n",
      "Processing Record 29 of Set 11 | kabare\n",
      "City not found.Skipping...\n",
      "Processing Record 31 of Set 11 | marshall\n",
      "Processing Record 32 of Set 11 | katsuura\n",
      "Processing Record 33 of Set 11 | kovernino\n",
      "Processing Record 34 of Set 11 | carhuaz\n",
      "Processing Record 35 of Set 11 | port keats\n",
      "Processing Record 36 of Set 11 | simao\n",
      "Processing Record 37 of Set 11 | bonavista\n",
      "Processing Record 38 of Set 11 | neyshabur\n",
      "City not found.Skipping...\n",
      "Processing Record 40 of Set 11 | salaspils\n",
      "Processing Record 41 of Set 11 | bixby\n",
      "Processing Record 42 of Set 11 | narsaq\n",
      "Processing Record 43 of Set 11 | mundo nuevo\n",
      "Processing Record 44 of Set 11 | vostok\n",
      "Processing Record 45 of Set 11 | port lavaca\n",
      "Processing Record 46 of Set 11 | beringovskiy\n",
      "Processing Record 47 of Set 11 | houlton\n",
      "Processing Record 48 of Set 11 | bandundu\n",
      "City not found.Skipping...\n",
      "Processing Record 50 of Set 11 | sanghar\n",
      "Processing Record 1 of Set 12 | asfi\n",
      "Processing Record 2 of Set 12 | mehamn\n",
      "Processing Record 3 of Set 12 | qaqortoq\n",
      "Processing Record 4 of Set 12 | amiens\n",
      "Processing Record 5 of Set 12 | birin\n",
      "Processing Record 6 of Set 12 | songjianghe\n",
      "Processing Record 7 of Set 12 | ilhabela\n",
      "Processing Record 8 of Set 12 | santa isabel\n",
      "Processing Record 9 of Set 12 | parksville\n",
      "Processing Record 10 of Set 12 | naples\n",
      "Processing Record 11 of Set 12 | lorengau\n",
      "Processing Record 12 of Set 12 | banda aceh\n",
      "Processing Record 13 of Set 12 | asosa\n",
      "Processing Record 14 of Set 12 | sechura\n",
      "Processing Record 15 of Set 12 | mount gambier\n",
      "Processing Record 16 of Set 12 | santa maria\n",
      "Processing Record 17 of Set 12 | zihuatanejo\n",
      "Processing Record 18 of Set 12 | talcahuano\n",
      "Processing Record 19 of Set 12 | sur\n",
      "Processing Record 20 of Set 12 | port hedland\n",
      "Processing Record 21 of Set 12 | karlivka\n",
      "Processing Record 22 of Set 12 | fuerte\n",
      "Processing Record 23 of Set 12 | raymond terrace\n",
      "Processing Record 24 of Set 12 | bara\n",
      "Processing Record 25 of Set 12 | sabang\n",
      "Processing Record 26 of Set 12 | salta\n",
      "Processing Record 27 of Set 12 | manaure\n",
      "Processing Record 28 of Set 12 | saint-pierre\n",
      "Processing Record 29 of Set 12 | bojnurd\n",
      "Processing Record 30 of Set 12 | miles city\n",
      "Processing Record 31 of Set 12 | davila\n",
      "Processing Record 32 of Set 12 | viedma\n",
      "Processing Record 33 of Set 12 | manacapuru\n",
      "Processing Record 34 of Set 12 | zatyshshya\n",
      "Processing Record 35 of Set 12 | timberlake\n",
      "Processing Record 36 of Set 12 | mudgee\n",
      "Processing Record 37 of Set 12 | kamaishi\n",
      "Processing Record 38 of Set 12 | chapayeve\n",
      "Processing Record 39 of Set 12 | zhanakorgan\n",
      "Processing Record 40 of Set 12 | kununurra\n",
      "Processing Record 41 of Set 12 | tokur\n",
      "Processing Record 42 of Set 12 | hay river\n",
      "Processing Record 43 of Set 12 | carballo\n",
      "Processing Record 44 of Set 12 | moron\n",
      "Processing Record 45 of Set 12 | marfino\n",
      "Processing Record 46 of Set 12 | temple\n",
      "Processing Record 47 of Set 12 | constantine\n",
      "Processing Record 48 of Set 12 | waipawa\n",
      "Processing Record 49 of Set 12 | teknaf\n",
      "Processing Record 50 of Set 12 | athol\n",
      "Processing Record 1 of Set 13 | richards bay\n",
      "Processing Record 2 of Set 13 | gunjur\n",
      "Processing Record 3 of Set 13 | havre-saint-pierre\n",
      "Processing Record 4 of Set 13 | jalpa\n",
      "Processing Record 5 of Set 13 | darnah\n",
      "Processing Record 6 of Set 13 | nanga eboko\n",
      "Processing Record 7 of Set 13 | halkirk\n",
      "Processing Record 8 of Set 13 | isla vista\n",
      "Processing Record 9 of Set 13 | alice springs\n",
      "Processing Record 10 of Set 13 | melito di porto salvo\n",
      "Processing Record 11 of Set 13 | kalmunai\n",
      "City not found.Skipping...\n"
     ]
    },
    {
     "name": "stdout",
     "output_type": "stream",
     "text": [
      "Processing Record 13 of Set 13 | miami\n",
      "Processing Record 14 of Set 13 | kenora\n",
      "Processing Record 15 of Set 13 | moose factory\n",
      "Processing Record 16 of Set 13 | praia\n",
      "Processing Record 17 of Set 13 | dillon\n",
      "Processing Record 18 of Set 13 | xiaoweizhai\n",
      "Processing Record 19 of Set 13 | midland\n",
      "Processing Record 20 of Set 13 | prince rupert\n",
      "-----------------------------\n",
      "Data Retrieval Complete      \n",
      "-----------------------------\n"
     ]
    }
   ],
   "source": [
    "# Initial print as asked in the result.\n",
    "\n",
    "print('''Beginning Data Retrieval     \n",
    "-----------------------------''')\n",
    "\n",
    "# Declare variables would be used in the loop.\n",
    "\n",
    "record_num = 0                   # The result has the structure \"Processing Record *1* of Set 1\". Change each iteration.\n",
    "record_set = 1                   # The result has the structure \"Processing Record 1 of Set *1*\". Change each set of 50.\n",
    "city_result = []                 # Variabes would be concatenate in a list to make the Data Frame (lat/tem/hum/cloud/wind)  \n",
    "\n",
    "# Loop for save the iteration of each response.\n",
    "# Here is an example of how data looks in API: http://api.openweathermap.org/data/2.5/weather?appid=965010596c72e3ffae1f9da4fdaa87ed&units=imperial&q=ostrovnoy\n",
    "\n",
    "for city in cities:\n",
    "    city_url = query_url + city                   # Add to the URL the city save in cities, taken randomly for step before.\n",
    "    weather_response = requests.get(city_url)    # Declare a JSON to read the API\n",
    "    weather_json = weather_response.json()\n",
    "\n",
    "    try:                         # Using try to jump error, in case the city do not contain the paramters.\n",
    "        record_num += 1          # Each iteration would add a number. Ex. Record 1, 2 , 3,...\n",
    "        latitude = weather_json[\"coord\"][\"lat\"]        # It reads JSON and teakes the parameter \"lat\" which is inside the main \"coord\"\n",
    "        longitude = weather_json[\"coord\"][\"lon\"]\n",
    "        max_temp = weather_json[\"main\"][\"temp_max\"]\n",
    "        humidity = weather_json[\"main\"][\"humidity\"]\n",
    "        cloudiness = weather_json[\"clouds\"][\"all\"]\n",
    "        wind_speed = weather_json[\"wind\"][\"speed\"]\n",
    "        country = weather_json[\"sys\"][\"country\"]\n",
    "        date = weather_json[\"dt\"]\n",
    "        \n",
    "        # Use APPEND to concatenate all the info got it above\n",
    "        city_result.append({\"City\":city, \"Lat\": latitude, \"Lng\" : longitude, \"Max Temp\": max_temp, \n",
    "                            \"Humidity\": humidity, \"Cloudiness\":  cloudiness, \"Wind Speed\": wind_speed, \n",
    "                            \"Country\": country, \"Date\": date})\n",
    "        \n",
    "        print(f\"Processing Record {record_num} of Set {record_set} | {city}\")\n",
    "        \n",
    "    except KeyError:                              # Use excecpt in case the coordinated do not find a city near.\n",
    "        print(\"City not found.Skipping...\")\n",
    "        \n",
    "    # Declare limits to jump to the next set of information. As example, maximum iteration is 50 by set.\n",
    "    if record_num == 50:\n",
    "        record_set += 1\n",
    "        record_num = 0\n",
    "        time.sleep(5)         # Giving time space between sets to avoid errors.\n",
    "            \n",
    "print('''-----------------------------\n",
    "Data Retrieval Complete      \n",
    "-----------------------------''')    "
   ]
  },
  {
   "cell_type": "markdown",
   "metadata": {},
   "source": [
    "### Convert Raw Data to DataFrame\n",
    "* Export the city data into a .csv.\n",
    "* Display the DataFrame"
   ]
  },
  {
   "cell_type": "code",
   "execution_count": 4,
   "metadata": {},
   "outputs": [
    {
     "data": {
      "text/html": [
       "<div>\n",
       "<style scoped>\n",
       "    .dataframe tbody tr th:only-of-type {\n",
       "        vertical-align: middle;\n",
       "    }\n",
       "\n",
       "    .dataframe tbody tr th {\n",
       "        vertical-align: top;\n",
       "    }\n",
       "\n",
       "    .dataframe thead th {\n",
       "        text-align: right;\n",
       "    }\n",
       "</style>\n",
       "<table border=\"1\" class=\"dataframe\">\n",
       "  <thead>\n",
       "    <tr style=\"text-align: right;\">\n",
       "      <th></th>\n",
       "      <th>City</th>\n",
       "      <th>Lat</th>\n",
       "      <th>Lng</th>\n",
       "      <th>Max Temp</th>\n",
       "      <th>Humidity</th>\n",
       "      <th>Cloudiness</th>\n",
       "      <th>Wind Speed</th>\n",
       "      <th>Country</th>\n",
       "      <th>Date</th>\n",
       "    </tr>\n",
       "  </thead>\n",
       "  <tbody>\n",
       "    <tr>\n",
       "      <th>0</th>\n",
       "      <td>grindavik</td>\n",
       "      <td>63.8424</td>\n",
       "      <td>-22.4338</td>\n",
       "      <td>46.40</td>\n",
       "      <td>71</td>\n",
       "      <td>90</td>\n",
       "      <td>10.36</td>\n",
       "      <td>IS</td>\n",
       "      <td>1619535558</td>\n",
       "    </tr>\n",
       "    <tr>\n",
       "      <th>1</th>\n",
       "      <td>port alfred</td>\n",
       "      <td>-33.5906</td>\n",
       "      <td>26.8910</td>\n",
       "      <td>69.64</td>\n",
       "      <td>66</td>\n",
       "      <td>0</td>\n",
       "      <td>18.70</td>\n",
       "      <td>ZA</td>\n",
       "      <td>1619535559</td>\n",
       "    </tr>\n",
       "    <tr>\n",
       "      <th>2</th>\n",
       "      <td>aras</td>\n",
       "      <td>42.5617</td>\n",
       "      <td>-2.3560</td>\n",
       "      <td>57.99</td>\n",
       "      <td>82</td>\n",
       "      <td>75</td>\n",
       "      <td>5.75</td>\n",
       "      <td>ES</td>\n",
       "      <td>1619535559</td>\n",
       "    </tr>\n",
       "    <tr>\n",
       "      <th>3</th>\n",
       "      <td>georgetown</td>\n",
       "      <td>5.4112</td>\n",
       "      <td>100.3354</td>\n",
       "      <td>82.40</td>\n",
       "      <td>83</td>\n",
       "      <td>40</td>\n",
       "      <td>2.30</td>\n",
       "      <td>MY</td>\n",
       "      <td>1619535559</td>\n",
       "    </tr>\n",
       "    <tr>\n",
       "      <th>4</th>\n",
       "      <td>rikitea</td>\n",
       "      <td>-23.1203</td>\n",
       "      <td>-134.9692</td>\n",
       "      <td>76.17</td>\n",
       "      <td>75</td>\n",
       "      <td>42</td>\n",
       "      <td>8.34</td>\n",
       "      <td>PF</td>\n",
       "      <td>1619535289</td>\n",
       "    </tr>\n",
       "    <tr>\n",
       "      <th>...</th>\n",
       "      <td>...</td>\n",
       "      <td>...</td>\n",
       "      <td>...</td>\n",
       "      <td>...</td>\n",
       "      <td>...</td>\n",
       "      <td>...</td>\n",
       "      <td>...</td>\n",
       "      <td>...</td>\n",
       "      <td>...</td>\n",
       "    </tr>\n",
       "    <tr>\n",
       "      <th>565</th>\n",
       "      <td>praia</td>\n",
       "      <td>14.9215</td>\n",
       "      <td>-23.5087</td>\n",
       "      <td>78.80</td>\n",
       "      <td>57</td>\n",
       "      <td>75</td>\n",
       "      <td>19.57</td>\n",
       "      <td>CV</td>\n",
       "      <td>1619535825</td>\n",
       "    </tr>\n",
       "    <tr>\n",
       "      <th>566</th>\n",
       "      <td>dillon</td>\n",
       "      <td>34.4166</td>\n",
       "      <td>-79.3712</td>\n",
       "      <td>73.99</td>\n",
       "      <td>46</td>\n",
       "      <td>1</td>\n",
       "      <td>5.75</td>\n",
       "      <td>US</td>\n",
       "      <td>1619535826</td>\n",
       "    </tr>\n",
       "    <tr>\n",
       "      <th>567</th>\n",
       "      <td>xiaoweizhai</td>\n",
       "      <td>26.1903</td>\n",
       "      <td>107.5125</td>\n",
       "      <td>58.75</td>\n",
       "      <td>94</td>\n",
       "      <td>38</td>\n",
       "      <td>1.90</td>\n",
       "      <td>CN</td>\n",
       "      <td>1619535592</td>\n",
       "    </tr>\n",
       "    <tr>\n",
       "      <th>568</th>\n",
       "      <td>midland</td>\n",
       "      <td>31.9974</td>\n",
       "      <td>-102.0779</td>\n",
       "      <td>78.01</td>\n",
       "      <td>50</td>\n",
       "      <td>1</td>\n",
       "      <td>11.50</td>\n",
       "      <td>US</td>\n",
       "      <td>1619535615</td>\n",
       "    </tr>\n",
       "    <tr>\n",
       "      <th>569</th>\n",
       "      <td>prince rupert</td>\n",
       "      <td>54.3161</td>\n",
       "      <td>-130.3201</td>\n",
       "      <td>46.40</td>\n",
       "      <td>81</td>\n",
       "      <td>90</td>\n",
       "      <td>13.80</td>\n",
       "      <td>CA</td>\n",
       "      <td>1619535804</td>\n",
       "    </tr>\n",
       "  </tbody>\n",
       "</table>\n",
       "<p>570 rows × 9 columns</p>\n",
       "</div>"
      ],
      "text/plain": [
       "              City      Lat       Lng  Max Temp  Humidity  Cloudiness  \\\n",
       "0        grindavik  63.8424  -22.4338     46.40        71          90   \n",
       "1      port alfred -33.5906   26.8910     69.64        66           0   \n",
       "2             aras  42.5617   -2.3560     57.99        82          75   \n",
       "3       georgetown   5.4112  100.3354     82.40        83          40   \n",
       "4          rikitea -23.1203 -134.9692     76.17        75          42   \n",
       "..             ...      ...       ...       ...       ...         ...   \n",
       "565          praia  14.9215  -23.5087     78.80        57          75   \n",
       "566         dillon  34.4166  -79.3712     73.99        46           1   \n",
       "567    xiaoweizhai  26.1903  107.5125     58.75        94          38   \n",
       "568        midland  31.9974 -102.0779     78.01        50           1   \n",
       "569  prince rupert  54.3161 -130.3201     46.40        81          90   \n",
       "\n",
       "     Wind Speed Country        Date  \n",
       "0         10.36      IS  1619535558  \n",
       "1         18.70      ZA  1619535559  \n",
       "2          5.75      ES  1619535559  \n",
       "3          2.30      MY  1619535559  \n",
       "4          8.34      PF  1619535289  \n",
       "..          ...     ...         ...  \n",
       "565       19.57      CV  1619535825  \n",
       "566        5.75      US  1619535826  \n",
       "567        1.90      CN  1619535592  \n",
       "568       11.50      US  1619535615  \n",
       "569       13.80      CA  1619535804  \n",
       "\n",
       "[570 rows x 9 columns]"
      ]
     },
     "execution_count": 4,
     "metadata": {},
     "output_type": "execute_result"
    }
   ],
   "source": [
    "# Create a Data Frame - in this case is not necessary to clean, in case use dropna()\n",
    "\n",
    "weather_result = pd.DataFrame(city_result)\n",
    "weather_result"
   ]
  },
  {
   "cell_type": "code",
   "execution_count": 5,
   "metadata": {},
   "outputs": [],
   "source": [
    "# Save dataframe in output_data file.\n",
    "\n",
    "weather_result.to_csv(\"output_data/weather_city_data.csv\", index=False, header=True)\n"
   ]
  },
  {
   "cell_type": "code",
   "execution_count": 6,
   "metadata": {},
   "outputs": [
    {
     "data": {
      "text/html": [
       "<div>\n",
       "<style scoped>\n",
       "    .dataframe tbody tr th:only-of-type {\n",
       "        vertical-align: middle;\n",
       "    }\n",
       "\n",
       "    .dataframe tbody tr th {\n",
       "        vertical-align: top;\n",
       "    }\n",
       "\n",
       "    .dataframe thead th {\n",
       "        text-align: right;\n",
       "    }\n",
       "</style>\n",
       "<table border=\"1\" class=\"dataframe\">\n",
       "  <thead>\n",
       "    <tr style=\"text-align: right;\">\n",
       "      <th></th>\n",
       "      <th>Lat</th>\n",
       "      <th>Lng</th>\n",
       "      <th>Max Temp</th>\n",
       "      <th>Humidity</th>\n",
       "      <th>Cloudiness</th>\n",
       "      <th>Wind Speed</th>\n",
       "      <th>Date</th>\n",
       "    </tr>\n",
       "  </thead>\n",
       "  <tbody>\n",
       "    <tr>\n",
       "      <th>count</th>\n",
       "      <td>570.000000</td>\n",
       "      <td>570.000000</td>\n",
       "      <td>570.000000</td>\n",
       "      <td>570.000000</td>\n",
       "      <td>570.000000</td>\n",
       "      <td>570.000000</td>\n",
       "      <td>5.700000e+02</td>\n",
       "    </tr>\n",
       "    <tr>\n",
       "      <th>mean</th>\n",
       "      <td>20.663491</td>\n",
       "      <td>17.064677</td>\n",
       "      <td>62.134965</td>\n",
       "      <td>68.326316</td>\n",
       "      <td>55.629825</td>\n",
       "      <td>7.675544</td>\n",
       "      <td>1.619536e+09</td>\n",
       "    </tr>\n",
       "    <tr>\n",
       "      <th>std</th>\n",
       "      <td>32.235383</td>\n",
       "      <td>92.677773</td>\n",
       "      <td>20.655140</td>\n",
       "      <td>22.100796</td>\n",
       "      <td>37.833343</td>\n",
       "      <td>4.838828</td>\n",
       "      <td>1.061955e+02</td>\n",
       "    </tr>\n",
       "    <tr>\n",
       "      <th>min</th>\n",
       "      <td>-54.800000</td>\n",
       "      <td>-175.200000</td>\n",
       "      <td>-2.560000</td>\n",
       "      <td>1.000000</td>\n",
       "      <td>0.000000</td>\n",
       "      <td>0.490000</td>\n",
       "      <td>1.619535e+09</td>\n",
       "    </tr>\n",
       "    <tr>\n",
       "      <th>25%</th>\n",
       "      <td>-3.691675</td>\n",
       "      <td>-67.378850</td>\n",
       "      <td>46.400000</td>\n",
       "      <td>57.000000</td>\n",
       "      <td>20.000000</td>\n",
       "      <td>3.850000</td>\n",
       "      <td>1.619536e+09</td>\n",
       "    </tr>\n",
       "    <tr>\n",
       "      <th>50%</th>\n",
       "      <td>25.533100</td>\n",
       "      <td>20.983450</td>\n",
       "      <td>65.505000</td>\n",
       "      <td>72.000000</td>\n",
       "      <td>75.000000</td>\n",
       "      <td>6.655000</td>\n",
       "      <td>1.619536e+09</td>\n",
       "    </tr>\n",
       "    <tr>\n",
       "      <th>75%</th>\n",
       "      <td>46.596000</td>\n",
       "      <td>102.433650</td>\n",
       "      <td>78.707500</td>\n",
       "      <td>86.000000</td>\n",
       "      <td>90.000000</td>\n",
       "      <td>10.360000</td>\n",
       "      <td>1.619536e+09</td>\n",
       "    </tr>\n",
       "    <tr>\n",
       "      <th>max</th>\n",
       "      <td>78.218600</td>\n",
       "      <td>179.316700</td>\n",
       "      <td>108.720000</td>\n",
       "      <td>100.000000</td>\n",
       "      <td>100.000000</td>\n",
       "      <td>26.460000</td>\n",
       "      <td>1.619536e+09</td>\n",
       "    </tr>\n",
       "  </tbody>\n",
       "</table>\n",
       "</div>"
      ],
      "text/plain": [
       "              Lat         Lng    Max Temp    Humidity  Cloudiness  Wind Speed  \\\n",
       "count  570.000000  570.000000  570.000000  570.000000  570.000000  570.000000   \n",
       "mean    20.663491   17.064677   62.134965   68.326316   55.629825    7.675544   \n",
       "std     32.235383   92.677773   20.655140   22.100796   37.833343    4.838828   \n",
       "min    -54.800000 -175.200000   -2.560000    1.000000    0.000000    0.490000   \n",
       "25%     -3.691675  -67.378850   46.400000   57.000000   20.000000    3.850000   \n",
       "50%     25.533100   20.983450   65.505000   72.000000   75.000000    6.655000   \n",
       "75%     46.596000  102.433650   78.707500   86.000000   90.000000   10.360000   \n",
       "max     78.218600  179.316700  108.720000  100.000000  100.000000   26.460000   \n",
       "\n",
       "               Date  \n",
       "count  5.700000e+02  \n",
       "mean   1.619536e+09  \n",
       "std    1.061955e+02  \n",
       "min    1.619535e+09  \n",
       "25%    1.619536e+09  \n",
       "50%    1.619536e+09  \n",
       "75%    1.619536e+09  \n",
       "max    1.619536e+09  "
      ]
     },
     "execution_count": 6,
     "metadata": {},
     "output_type": "execute_result"
    }
   ],
   "source": [
    "# Use fucntion .describe to show the metrics for the Data Frame\n",
    "\n",
    "weather_result.describe()"
   ]
  },
  {
   "cell_type": "markdown",
   "metadata": {},
   "source": [
    "## Inspect the data and remove the cities where the humidity > 100%.\n",
    "----\n",
    "Skip this step if there are no cities that have humidity > 100%. "
   ]
  },
  {
   "cell_type": "code",
   "execution_count": 7,
   "metadata": {},
   "outputs": [
    {
     "data": {
      "text/html": [
       "<div>\n",
       "<style scoped>\n",
       "    .dataframe tbody tr th:only-of-type {\n",
       "        vertical-align: middle;\n",
       "    }\n",
       "\n",
       "    .dataframe tbody tr th {\n",
       "        vertical-align: top;\n",
       "    }\n",
       "\n",
       "    .dataframe thead th {\n",
       "        text-align: right;\n",
       "    }\n",
       "</style>\n",
       "<table border=\"1\" class=\"dataframe\">\n",
       "  <thead>\n",
       "    <tr style=\"text-align: right;\">\n",
       "      <th></th>\n",
       "      <th>City</th>\n",
       "      <th>Lat</th>\n",
       "      <th>Lng</th>\n",
       "      <th>Max Temp</th>\n",
       "      <th>Humidity</th>\n",
       "      <th>Cloudiness</th>\n",
       "      <th>Wind Speed</th>\n",
       "      <th>Country</th>\n",
       "      <th>Date</th>\n",
       "    </tr>\n",
       "  </thead>\n",
       "  <tbody>\n",
       "    <tr>\n",
       "      <th>0</th>\n",
       "      <td>grindavik</td>\n",
       "      <td>63.8424</td>\n",
       "      <td>-22.4338</td>\n",
       "      <td>46.40</td>\n",
       "      <td>71</td>\n",
       "      <td>90</td>\n",
       "      <td>10.36</td>\n",
       "      <td>IS</td>\n",
       "      <td>1619535558</td>\n",
       "    </tr>\n",
       "    <tr>\n",
       "      <th>1</th>\n",
       "      <td>port alfred</td>\n",
       "      <td>-33.5906</td>\n",
       "      <td>26.8910</td>\n",
       "      <td>69.64</td>\n",
       "      <td>66</td>\n",
       "      <td>0</td>\n",
       "      <td>18.70</td>\n",
       "      <td>ZA</td>\n",
       "      <td>1619535559</td>\n",
       "    </tr>\n",
       "    <tr>\n",
       "      <th>2</th>\n",
       "      <td>aras</td>\n",
       "      <td>42.5617</td>\n",
       "      <td>-2.3560</td>\n",
       "      <td>57.99</td>\n",
       "      <td>82</td>\n",
       "      <td>75</td>\n",
       "      <td>5.75</td>\n",
       "      <td>ES</td>\n",
       "      <td>1619535559</td>\n",
       "    </tr>\n",
       "    <tr>\n",
       "      <th>3</th>\n",
       "      <td>georgetown</td>\n",
       "      <td>5.4112</td>\n",
       "      <td>100.3354</td>\n",
       "      <td>82.40</td>\n",
       "      <td>83</td>\n",
       "      <td>40</td>\n",
       "      <td>2.30</td>\n",
       "      <td>MY</td>\n",
       "      <td>1619535559</td>\n",
       "    </tr>\n",
       "    <tr>\n",
       "      <th>4</th>\n",
       "      <td>rikitea</td>\n",
       "      <td>-23.1203</td>\n",
       "      <td>-134.9692</td>\n",
       "      <td>76.17</td>\n",
       "      <td>75</td>\n",
       "      <td>42</td>\n",
       "      <td>8.34</td>\n",
       "      <td>PF</td>\n",
       "      <td>1619535289</td>\n",
       "    </tr>\n",
       "    <tr>\n",
       "      <th>...</th>\n",
       "      <td>...</td>\n",
       "      <td>...</td>\n",
       "      <td>...</td>\n",
       "      <td>...</td>\n",
       "      <td>...</td>\n",
       "      <td>...</td>\n",
       "      <td>...</td>\n",
       "      <td>...</td>\n",
       "      <td>...</td>\n",
       "    </tr>\n",
       "    <tr>\n",
       "      <th>565</th>\n",
       "      <td>praia</td>\n",
       "      <td>14.9215</td>\n",
       "      <td>-23.5087</td>\n",
       "      <td>78.80</td>\n",
       "      <td>57</td>\n",
       "      <td>75</td>\n",
       "      <td>19.57</td>\n",
       "      <td>CV</td>\n",
       "      <td>1619535825</td>\n",
       "    </tr>\n",
       "    <tr>\n",
       "      <th>566</th>\n",
       "      <td>dillon</td>\n",
       "      <td>34.4166</td>\n",
       "      <td>-79.3712</td>\n",
       "      <td>73.99</td>\n",
       "      <td>46</td>\n",
       "      <td>1</td>\n",
       "      <td>5.75</td>\n",
       "      <td>US</td>\n",
       "      <td>1619535826</td>\n",
       "    </tr>\n",
       "    <tr>\n",
       "      <th>567</th>\n",
       "      <td>xiaoweizhai</td>\n",
       "      <td>26.1903</td>\n",
       "      <td>107.5125</td>\n",
       "      <td>58.75</td>\n",
       "      <td>94</td>\n",
       "      <td>38</td>\n",
       "      <td>1.90</td>\n",
       "      <td>CN</td>\n",
       "      <td>1619535592</td>\n",
       "    </tr>\n",
       "    <tr>\n",
       "      <th>568</th>\n",
       "      <td>midland</td>\n",
       "      <td>31.9974</td>\n",
       "      <td>-102.0779</td>\n",
       "      <td>78.01</td>\n",
       "      <td>50</td>\n",
       "      <td>1</td>\n",
       "      <td>11.50</td>\n",
       "      <td>US</td>\n",
       "      <td>1619535615</td>\n",
       "    </tr>\n",
       "    <tr>\n",
       "      <th>569</th>\n",
       "      <td>prince rupert</td>\n",
       "      <td>54.3161</td>\n",
       "      <td>-130.3201</td>\n",
       "      <td>46.40</td>\n",
       "      <td>81</td>\n",
       "      <td>90</td>\n",
       "      <td>13.80</td>\n",
       "      <td>CA</td>\n",
       "      <td>1619535804</td>\n",
       "    </tr>\n",
       "  </tbody>\n",
       "</table>\n",
       "<p>570 rows × 9 columns</p>\n",
       "</div>"
      ],
      "text/plain": [
       "              City      Lat       Lng  Max Temp  Humidity  Cloudiness  \\\n",
       "0        grindavik  63.8424  -22.4338     46.40        71          90   \n",
       "1      port alfred -33.5906   26.8910     69.64        66           0   \n",
       "2             aras  42.5617   -2.3560     57.99        82          75   \n",
       "3       georgetown   5.4112  100.3354     82.40        83          40   \n",
       "4          rikitea -23.1203 -134.9692     76.17        75          42   \n",
       "..             ...      ...       ...       ...       ...         ...   \n",
       "565          praia  14.9215  -23.5087     78.80        57          75   \n",
       "566         dillon  34.4166  -79.3712     73.99        46           1   \n",
       "567    xiaoweizhai  26.1903  107.5125     58.75        94          38   \n",
       "568        midland  31.9974 -102.0779     78.01        50           1   \n",
       "569  prince rupert  54.3161 -130.3201     46.40        81          90   \n",
       "\n",
       "     Wind Speed Country        Date  \n",
       "0         10.36      IS  1619535558  \n",
       "1         18.70      ZA  1619535559  \n",
       "2          5.75      ES  1619535559  \n",
       "3          2.30      MY  1619535559  \n",
       "4          8.34      PF  1619535289  \n",
       "..          ...     ...         ...  \n",
       "565       19.57      CV  1619535825  \n",
       "566        5.75      US  1619535826  \n",
       "567        1.90      CN  1619535592  \n",
       "568       11.50      US  1619535615  \n",
       "569       13.80      CA  1619535804  \n",
       "\n",
       "[570 rows x 9 columns]"
      ]
     },
     "execution_count": 7,
     "metadata": {},
     "output_type": "execute_result"
    }
   ],
   "source": [
    "# Get the indices of cities that have humidity over 100%.\n",
    "# Make a new DataFrame equal to the city data to drop all humidity outliers by index.\n",
    "# Passing \"inplace=False\" will make a copy of the city_data DataFrame, which we call \"clean_city_data\".\n",
    "\n",
    "clean_city_data = weather_result.loc[weather_result[\"Humidity\"] <= 100]\n",
    "\n",
    "clean_city_data\n",
    "\n",
    "# To check humidity parameter and secure values & formula\n",
    "# humidity = weather_result[\"Humidity\"].tolist()\n",
    "# humidity.sort(reverse=True)\n",
    "# humidity\n"
   ]
  },
  {
   "cell_type": "markdown",
   "metadata": {},
   "source": [
    "## Plotting the Data\n",
    "* Use proper labeling of the plots using plot titles (including date of analysis) and axes labels.\n",
    "* Save the plotted figures as .pngs."
   ]
  },
  {
   "cell_type": "markdown",
   "metadata": {},
   "source": [
    "## Latitude vs. Temperature Plot"
   ]
  },
  {
   "cell_type": "code",
   "execution_count": 8,
   "metadata": {
    "scrolled": true
   },
   "outputs": [
    {
     "data": {
      "image/png": "[encoded data removed]",
      "text/plain": [
       "<Figure size 432x288 with 1 Axes>"
      ]
     },
     "metadata": {
      "needs_background": "light"
     },
     "output_type": "display_data"
    }
   ],
   "source": [
    "# Create a scatter plot (alpha = size / edgecolor = border / color = circle color) \n",
    "clean_city_data.plot.scatter(x=\"Lat\", y=\"Max Temp\", color=\"skyblue\", alpha=0.75, edgecolors = \"black\")\n",
    "\n",
    "# Additional Properties\n",
    "plt.title(\"City Latitude vs. Max Temperature (04/01/20)\")\n",
    "plt.xlabel(\"Latitude\")\n",
    "plt.ylabel(\"Max Temperature (F)\")\n",
    "plt.grid (b=True, which=\"major\",axis=\"both\",linestyle=\"-\")  \n",
    "plt.savefig(\"Figures/fig1_SP_Lat_vs_Tem.png\")\n",
    "plt.show()\n"
   ]
  },
  {
   "cell_type": "markdown",
   "metadata": {},
   "source": [
    "## Latitude vs. Humidity Plot"
   ]
  },
  {
   "cell_type": "code",
   "execution_count": 9,
   "metadata": {},
   "outputs": [
    {
     "data": {
      "image/png": "[encoded data removed]",
      "text/plain": [
       "<Figure size 432x288 with 1 Axes>"
      ]
     },
     "metadata": {
      "needs_background": "light"
     },
     "output_type": "display_data"
    }
   ],
   "source": [
    "# Create a scatter plot\n",
    "clean_city_data.plot.scatter(x=\"Lat\", y=\"Humidity\", color=\"grey\", alpha=0.75, edgecolors = \"black\")\n",
    "\n",
    "# Additional Properties\n",
    "plt.title(\"City Latitude vs. Humidity (04/01/20)\")\n",
    "plt.xlabel(\"Latitude\")\n",
    "plt.ylabel(\"Humidity (%)\")\n",
    "plt.grid ()\n",
    "plt.savefig(\"Figures/fig2_SP_Lat_vs_Hum.png\")\n",
    "plt.show()"
   ]
  },
  {
   "cell_type": "markdown",
   "metadata": {},
   "source": [
    "## Latitude vs. Cloudiness Plot"
   ]
  },
  {
   "cell_type": "code",
   "execution_count": 10,
   "metadata": {},
   "outputs": [
    {
     "data": {
      "image/png": "[encoded data removed]",
      "text/plain": [
       "<Figure size 432x288 with 1 Axes>"
      ]
     },
     "metadata": {
      "needs_background": "light"
     },
     "output_type": "display_data"
    }
   ],
   "source": [
    "# Create a scatter plot\n",
    "clean_city_data.plot.scatter(x=\"Lat\", y=\"Cloudiness\", color=\"blue\", alpha=0.75, edgecolors = \"black\")\n",
    "\n",
    "# Additional Properties\n",
    "plt.title(\"City Latitude vs. Cloudiness (04/01/20)\")\n",
    "plt.xlabel(\"Latitude\")\n",
    "plt.ylabel(\"Cloudiness (%)\")\n",
    "plt.grid ()\n",
    "plt.savefig(\"Figures/fig3_SP_Lat_vs_Cloud.png\")\n",
    "plt.show()"
   ]
  },
  {
   "cell_type": "markdown",
   "metadata": {},
   "source": [
    "## Latitude vs. Wind Speed Plot"
   ]
  },
  {
   "cell_type": "code",
   "execution_count": 11,
   "metadata": {},
   "outputs": [
    {
     "data": {
      "image/png": "[encoded data removed]",
      "text/plain": [
       "<Figure size 432x288 with 1 Axes>"
      ]
     },
     "metadata": {
      "needs_background": "light"
     },
     "output_type": "display_data"
    }
   ],
   "source": [
    "# Create a scatter plot\n",
    "clean_city_data.plot.scatter(x=\"Lat\", y=\"Wind Speed\", color=\"red\", alpha=0.75, edgecolors = \"black\")\n",
    "\n",
    "# Additional Properties\n",
    "plt.title(\"City Latitude vs. Wind Speed (04/01/20)\")\n",
    "plt.xlabel(\"Latitude\")\n",
    "plt.ylabel(\"Wind Speed (mph)\")\n",
    "plt.grid ()\n",
    "plt.savefig(\"Figures/fig4_SP_Lat_vs_Wind.png\")\n",
    "plt.show()"
   ]
  },
  {
   "cell_type": "markdown",
   "metadata": {},
   "source": [
    "## Linear Regression"
   ]
  },
  {
   "cell_type": "code",
   "execution_count": 21,
   "metadata": {},
   "outputs": [
    {
     "data": {
      "text/html": [
       "<div>\n",
       "<style scoped>\n",
       "    .dataframe tbody tr th:only-of-type {\n",
       "        vertical-align: middle;\n",
       "    }\n",
       "\n",
       "    .dataframe tbody tr th {\n",
       "        vertical-align: top;\n",
       "    }\n",
       "\n",
       "    .dataframe thead th {\n",
       "        text-align: right;\n",
       "    }\n",
       "</style>\n",
       "<table border=\"1\" class=\"dataframe\">\n",
       "  <thead>\n",
       "    <tr style=\"text-align: right;\">\n",
       "      <th></th>\n",
       "      <th>City</th>\n",
       "      <th>Lat</th>\n",
       "      <th>Lng</th>\n",
       "      <th>Max Temp</th>\n",
       "      <th>Humidity</th>\n",
       "      <th>Cloudiness</th>\n",
       "      <th>Wind Speed</th>\n",
       "      <th>Country</th>\n",
       "      <th>Date</th>\n",
       "    </tr>\n",
       "  </thead>\n",
       "  <tbody>\n",
       "    <tr>\n",
       "      <th>1</th>\n",
       "      <td>port alfred</td>\n",
       "      <td>-33.5906</td>\n",
       "      <td>26.8910</td>\n",
       "      <td>69.64</td>\n",
       "      <td>66</td>\n",
       "      <td>0</td>\n",
       "      <td>18.70</td>\n",
       "      <td>ZA</td>\n",
       "      <td>1619535559</td>\n",
       "    </tr>\n",
       "    <tr>\n",
       "      <th>4</th>\n",
       "      <td>rikitea</td>\n",
       "      <td>-23.1203</td>\n",
       "      <td>-134.9692</td>\n",
       "      <td>76.17</td>\n",
       "      <td>75</td>\n",
       "      <td>42</td>\n",
       "      <td>8.34</td>\n",
       "      <td>PF</td>\n",
       "      <td>1619535289</td>\n",
       "    </tr>\n",
       "    <tr>\n",
       "      <th>6</th>\n",
       "      <td>busselton</td>\n",
       "      <td>-33.6500</td>\n",
       "      <td>115.3333</td>\n",
       "      <td>60.01</td>\n",
       "      <td>91</td>\n",
       "      <td>1</td>\n",
       "      <td>2.89</td>\n",
       "      <td>AU</td>\n",
       "      <td>1619535560</td>\n",
       "    </tr>\n",
       "    <tr>\n",
       "      <th>7</th>\n",
       "      <td>namatanai</td>\n",
       "      <td>-3.6667</td>\n",
       "      <td>152.4333</td>\n",
       "      <td>79.61</td>\n",
       "      <td>80</td>\n",
       "      <td>100</td>\n",
       "      <td>5.32</td>\n",
       "      <td>PG</td>\n",
       "      <td>1619535560</td>\n",
       "    </tr>\n",
       "    <tr>\n",
       "      <th>10</th>\n",
       "      <td>mount isa</td>\n",
       "      <td>-20.7333</td>\n",
       "      <td>139.5000</td>\n",
       "      <td>75.20</td>\n",
       "      <td>25</td>\n",
       "      <td>0</td>\n",
       "      <td>5.75</td>\n",
       "      <td>AU</td>\n",
       "      <td>1619535561</td>\n",
       "    </tr>\n",
       "  </tbody>\n",
       "</table>\n",
       "</div>"
      ],
      "text/plain": [
       "           City      Lat       Lng  Max Temp  Humidity  Cloudiness  \\\n",
       "1   port alfred -33.5906   26.8910     69.64        66           0   \n",
       "4       rikitea -23.1203 -134.9692     76.17        75          42   \n",
       "6     busselton -33.6500  115.3333     60.01        91           1   \n",
       "7     namatanai  -3.6667  152.4333     79.61        80         100   \n",
       "10    mount isa -20.7333  139.5000     75.20        25           0   \n",
       "\n",
       "    Wind Speed Country        Date  \n",
       "1        18.70      ZA  1619535559  \n",
       "4         8.34      PF  1619535289  \n",
       "6         2.89      AU  1619535560  \n",
       "7         5.32      PG  1619535560  \n",
       "10        5.75      AU  1619535561  "
      ]
     },
     "execution_count": 21,
     "metadata": {},
     "output_type": "execute_result"
    }
   ],
   "source": [
    "# Using the fucntion .loc to filter the values < or > than 0. Important, use the original DF, otherwise not possible to do it.\n",
    "\n",
    "north_hemisphere = weather_result.loc[weather_result[\"Lat\"] > 0]\n",
    "south_hemisphere = weather_result.loc[weather_result[\"Lat\"] < 0]\n",
    "\n",
    "south_hemisphere.head()"
   ]
  },
  {
   "cell_type": "markdown",
   "metadata": {},
   "source": [
    "####  Northern Hemisphere - Max Temp vs. Latitude Linear Regression"
   ]
  },
  {
   "cell_type": "code",
   "execution_count": 13,
   "metadata": {},
   "outputs": [
    {
     "name": "stdout",
     "output_type": "stream",
     "text": [
      "The correlation equals to -0.86\n"
     ]
    },
    {
     "data": {
      "image/png": "[encoded data removed]",
      "text/plain": [
       "<Figure size 432x288 with 1 Axes>"
      ]
     },
     "metadata": {
      "needs_background": "light"
     },
     "output_type": "display_data"
    },
    {
     "data": {
      "text/plain": [
       "<Figure size 432x288 with 0 Axes>"
      ]
     },
     "metadata": {},
     "output_type": "display_data"
    }
   ],
   "source": [
    "# Calculate the correlation coefficient and linear regression model \n",
    "\n",
    "x_axis = north_hemisphere[\"Lat\"]\n",
    "y_axis = north_hemisphere[\"Max Temp\"]\n",
    "corr=round(st.pearsonr(x_axis,y_axis)[0],2)\n",
    "print(f\"The correlation equals to {corr}\")\n",
    "(slope, intercept, rvalue, pvalue, stderr) = st.linregress(x_axis, y_axis)\n",
    "regress_values = x_axis * slope + intercept\n",
    "line_eq = \"y = \" + str(round(slope,2)) + \"x + \" + str(round(intercept,2))\n",
    "plt.scatter(x_axis,y_axis)\n",
    "plt.plot(x_axis,regress_values,\"r-\")\n",
    "plt.annotate(line_eq,(5,10),fontsize=15,color=\"red\")\n",
    "plt.xlabel(\"North H Latitude\")\n",
    "plt.ylabel(\"Max Temp\")\n",
    "plt.show()\n",
    "\n",
    "plt.savefig(\"Figures/fig5_RP_NHLat_vs_MaxT.png\")"
   ]
  },
  {
   "cell_type": "markdown",
   "metadata": {},
   "source": [
    "####  Southern Hemisphere - Max Temp vs. Latitude Linear Regression"
   ]
  },
  {
   "cell_type": "code",
   "execution_count": 14,
   "metadata": {},
   "outputs": [
    {
     "name": "stdout",
     "output_type": "stream",
     "text": [
      "The correlation equals to 0.77\n"
     ]
    },
    {
     "data": {
      "image/png": "[encoded data removed]",
      "text/plain": [
       "<Figure size 432x288 with 1 Axes>"
      ]
     },
     "metadata": {
      "needs_background": "light"
     },
     "output_type": "display_data"
    },
    {
     "data": {
      "text/plain": [
       "<Figure size 432x288 with 0 Axes>"
      ]
     },
     "metadata": {},
     "output_type": "display_data"
    }
   ],
   "source": [
    "# Calculate the correlation coefficient and linear regression model \n",
    "\n",
    "x_axis = south_hemisphere[\"Lat\"]\n",
    "y_axis = south_hemisphere[\"Max Temp\"]\n",
    "corr=round(st.pearsonr(x_axis,y_axis)[0],2)\n",
    "print(f\"The correlation equals to {corr}\")\n",
    "(slope, intercept, rvalue, pvalue, stderr) = st.linregress(x_axis, y_axis)\n",
    "regress_values = x_axis * slope + intercept\n",
    "line_eq = \"y = \" + str(round(slope,2)) + \"x + \" + str(round(intercept,2))\n",
    "plt.scatter(x_axis,y_axis)\n",
    "plt.plot(x_axis,regress_values,\"r-\")\n",
    "plt.annotate(line_eq,(-50,85),fontsize=15,color=\"red\")\n",
    "plt.xlabel(\"South H Latitude\")\n",
    "plt.ylabel(\"Max Temp\")\n",
    "plt.show()\n",
    "\n",
    "plt.savefig(\"Figures/fig6_RP_SHLat_vs_MaxT\")"
   ]
  },
  {
   "cell_type": "markdown",
   "metadata": {},
   "source": [
    "####  Northern Hemisphere - Humidity (%) vs. Latitude Linear Regression"
   ]
  },
  {
   "cell_type": "code",
   "execution_count": 15,
   "metadata": {},
   "outputs": [
    {
     "name": "stdout",
     "output_type": "stream",
     "text": [
      "The correlation equals to 0.19\n"
     ]
    },
    {
     "data": {
      "image/png": "[encoded data removed]",
      "text/plain": [
       "<Figure size 432x288 with 1 Axes>"
      ]
     },
     "metadata": {
      "needs_background": "light"
     },
     "output_type": "display_data"
    },
    {
     "data": {
      "text/plain": [
       "<Figure size 432x288 with 0 Axes>"
      ]
     },
     "metadata": {},
     "output_type": "display_data"
    }
   ],
   "source": [
    "# Calculate the correlation coefficient and linear regression model \n",
    "\n",
    "x_axis = north_hemisphere[\"Lat\"]\n",
    "y_axis = north_hemisphere[\"Humidity\"]\n",
    "corr=round(st.pearsonr(x_axis,y_axis)[0],2)\n",
    "print(f\"The correlation equals to {corr}\")\n",
    "(slope, intercept, rvalue, pvalue, stderr) = st.linregress(x_axis, y_axis)\n",
    "regress_values = x_axis * slope + intercept\n",
    "line_eq = \"y = \" + str(round(slope,2)) + \"x + \" + str(round(intercept,2))\n",
    "plt.scatter(x_axis,y_axis)\n",
    "plt.plot(x_axis,regress_values,\"r-\")\n",
    "plt.annotate(line_eq,(45,10),fontsize=15,color=\"red\")\n",
    "plt.xlabel(\"North H Latitude\")\n",
    "plt.ylabel(\"Humidity\")\n",
    "plt.show()\n",
    "\n",
    "plt.savefig(\"Figures/fig7_RP_NHLat_vs_Hum.png\")"
   ]
  },
  {
   "cell_type": "markdown",
   "metadata": {},
   "source": [
    "####  Southern Hemisphere - Humidity (%) vs. Latitude Linear Regression"
   ]
  },
  {
   "cell_type": "code",
   "execution_count": 16,
   "metadata": {},
   "outputs": [
    {
     "name": "stdout",
     "output_type": "stream",
     "text": [
      "The correlation equals to 0.01\n"
     ]
    },
    {
     "data": {
      "image/png": "[encoded data removed]",
      "text/plain": [
       "<Figure size 432x288 with 1 Axes>"
      ]
     },
     "metadata": {
      "needs_background": "light"
     },
     "output_type": "display_data"
    },
    {
     "data": {
      "text/plain": [
       "<Figure size 432x288 with 0 Axes>"
      ]
     },
     "metadata": {},
     "output_type": "display_data"
    }
   ],
   "source": [
    "# Calculate the correlation coefficient and linear regression model \n",
    "\n",
    "x_axis = south_hemisphere[\"Lat\"]\n",
    "y_axis = south_hemisphere[\"Humidity\"]\n",
    "corr=round(st.pearsonr(x_axis,y_axis)[0],2)\n",
    "print(f\"The correlation equals to {corr}\")\n",
    "(slope, intercept, rvalue, pvalue, stderr) = st.linregress(x_axis, y_axis)\n",
    "regress_values = x_axis * slope + intercept\n",
    "line_eq = \"y = \" + str(round(slope,2)) + \"x + \" + str(round(intercept,2))\n",
    "plt.scatter(x_axis,y_axis)\n",
    "plt.plot(x_axis,regress_values,\"r-\")\n",
    "plt.annotate(line_eq,(-50,20),fontsize=15,color=\"red\")\n",
    "plt.xlabel(\"South H Latitude\")\n",
    "plt.ylabel(\"Humidity\")\n",
    "plt.show()\n",
    "\n",
    "plt.savefig(\"Figures/fig8_RP_SHLat_vs_Hum.png\")"
   ]
  },
  {
   "cell_type": "markdown",
   "metadata": {},
   "source": [
    "####  Northern Hemisphere - Cloudiness (%) vs. Latitude Linear Regression"
   ]
  },
  {
   "cell_type": "code",
   "execution_count": 17,
   "metadata": {},
   "outputs": [
    {
     "name": "stdout",
     "output_type": "stream",
     "text": [
      "The correlation equals to 0.19\n"
     ]
    },
    {
     "data": {
      "image/png": "[encoded data removed]",
      "text/plain": [
       "<Figure size 432x288 with 1 Axes>"
      ]
     },
     "metadata": {
      "needs_background": "light"
     },
     "output_type": "display_data"
    },
    {
     "data": {
      "text/plain": [
       "<Figure size 432x288 with 0 Axes>"
      ]
     },
     "metadata": {},
     "output_type": "display_data"
    }
   ],
   "source": [
    "x_axis = north_hemisphere[\"Lat\"]\n",
    "y_axis = north_hemisphere[\"Cloudiness\"]\n",
    "corr=round(st.pearsonr(x_axis,y_axis)[0],2)\n",
    "print(f\"The correlation equals to {corr}\")\n",
    "(slope, intercept, rvalue, pvalue, stderr) = st.linregress(x_axis, y_axis)\n",
    "regress_values = x_axis * slope + intercept\n",
    "line_eq = \"y = \" + str(round(slope,2)) + \"x + \" + str(round(intercept,2))\n",
    "plt.scatter(x_axis,y_axis)\n",
    "plt.plot(x_axis,regress_values,\"r-\")\n",
    "plt.annotate(line_eq,(40,50),fontsize=15,color=\"red\")\n",
    "plt.xlabel(\"North H Latitude\")\n",
    "plt.ylabel(\"Cloudiness\")\n",
    "plt.show()\n",
    "\n",
    "plt.savefig(\"Figures/fig9_RP_NHLat_vs_Cloud.png\")"
   ]
  },
  {
   "cell_type": "markdown",
   "metadata": {},
   "source": [
    "####  Southern Hemisphere - Cloudiness (%) vs. Latitude Linear Regression"
   ]
  },
  {
   "cell_type": "code",
   "execution_count": 18,
   "metadata": {},
   "outputs": [
    {
     "name": "stdout",
     "output_type": "stream",
     "text": [
      "The correlation equals to 0.23\n"
     ]
    },
    {
     "data": {
      "image/png": "[encoded data removed]",
      "text/plain": [
       "<Figure size 432x288 with 1 Axes>"
      ]
     },
     "metadata": {
      "needs_background": "light"
     },
     "output_type": "display_data"
    },
    {
     "data": {
      "text/plain": [
       "<Figure size 432x288 with 0 Axes>"
      ]
     },
     "metadata": {},
     "output_type": "display_data"
    }
   ],
   "source": [
    "x_axis = south_hemisphere[\"Lat\"]\n",
    "y_axis = south_hemisphere[\"Cloudiness\"]\n",
    "corr=round(st.pearsonr(x_axis,y_axis)[0],2)\n",
    "print(f\"The correlation equals to {corr}\")\n",
    "(slope, intercept, rvalue, pvalue, stderr) = st.linregress(x_axis, y_axis)\n",
    "regress_values = x_axis * slope + intercept\n",
    "line_eq = \"y = \" + str(round(slope,2)) + \"x + \" + str(round(intercept,2))\n",
    "plt.scatter(x_axis,y_axis)\n",
    "plt.plot(x_axis,regress_values,\"r-\")\n",
    "plt.annotate(line_eq,(-50,50),fontsize=15,color=\"red\")\n",
    "plt.xlabel(\"South H Latitude\")\n",
    "plt.ylabel(\"Cloudiness\")\n",
    "plt.show()\n",
    "\n",
    "plt.savefig(\"Figures/fig10_RP_SHLat_vs_Cloud.png\")"
   ]
  },
  {
   "cell_type": "markdown",
   "metadata": {},
   "source": [
    "####  Northern Hemisphere - Wind Speed (mph) vs. Latitude Linear Regression"
   ]
  },
  {
   "cell_type": "code",
   "execution_count": 19,
   "metadata": {},
   "outputs": [
    {
     "name": "stdout",
     "output_type": "stream",
     "text": [
      "The correlation equals to 0.07\n"
     ]
    },
    {
     "data": {
      "image/png": "[encoded data removed]",
      "text/plain": [
       "<Figure size 432x288 with 1 Axes>"
      ]
     },
     "metadata": {
      "needs_background": "light"
     },
     "output_type": "display_data"
    },
    {
     "data": {
      "text/plain": [
       "<Figure size 432x288 with 0 Axes>"
      ]
     },
     "metadata": {},
     "output_type": "display_data"
    }
   ],
   "source": [
    "x_axis = north_hemisphere[\"Lat\"]\n",
    "y_axis = north_hemisphere[\"Wind Speed\"]\n",
    "corr=round(st.pearsonr(x_axis,y_axis)[0],2)\n",
    "print(f\"The correlation equals to {corr}\")\n",
    "(slope, intercept, rvalue, pvalue, stderr) = st.linregress(x_axis, y_axis)\n",
    "regress_values = x_axis * slope + intercept\n",
    "line_eq = \"y = \" + str(round(slope,2)) + \"x + \" + str(round(intercept,2))\n",
    "plt.scatter(x_axis,y_axis)\n",
    "plt.plot(x_axis,regress_values,\"r-\")\n",
    "plt.annotate(line_eq,(50,20),fontsize=15,color=\"red\")\n",
    "plt.xlabel(\"North H Latitude\")\n",
    "plt.ylabel(\"Wind Speed (mph)\")\n",
    "plt.show()\n",
    "\n",
    "plt.savefig(\"Figures/fig11_RP_NHLat_vs_Wind.png\")"
   ]
  },
  {
   "cell_type": "markdown",
   "metadata": {},
   "source": [
    "####  Southern Hemisphere - Wind Speed (mph) vs. Latitude Linear Regression"
   ]
  },
  {
   "cell_type": "code",
   "execution_count": 20,
   "metadata": {},
   "outputs": [
    {
     "name": "stdout",
     "output_type": "stream",
     "text": [
      "The correlation equals to 0.01\n"
     ]
    },
    {
     "data": {
      "image/png": "[encoded data removed]",
      "text/plain": [
       "<Figure size 432x288 with 1 Axes>"
      ]
     },
     "metadata": {
      "needs_background": "light"
     },
     "output_type": "display_data"
    },
    {
     "data": {
      "text/plain": [
       "<Figure size 432x288 with 0 Axes>"
      ]
     },
     "metadata": {},
     "output_type": "display_data"
    }
   ],
   "source": [
    "x_axis = south_hemisphere[\"Lat\"]\n",
    "y_axis = south_hemisphere[\"Wind Speed\"]\n",
    "corr=round(st.pearsonr(x_axis,y_axis)[0],2)\n",
    "print(f\"The correlation equals to {corr}\")\n",
    "(slope, intercept, rvalue, pvalue, stderr) = st.linregress(x_axis, y_axis)\n",
    "regress_values = x_axis * slope + intercept\n",
    "line_eq = \"y = \" + str(round(slope,2)) + \"x + \" + str(round(intercept,2))\n",
    "plt.scatter(x_axis,y_axis)\n",
    "plt.plot(x_axis,regress_values,\"r-\")\n",
    "plt.annotate(line_eq,(-50,20),fontsize=15,color=\"red\")\n",
    "plt.xlabel(\"South H Latitude\")\n",
    "plt.ylabel(\"Wind Speed (mph)\")\n",
    "plt.show()\n",
    "\n",
    "plt.savefig(\"Figures/fig12_RP_SHLat_vs_Wind.png\")"
   ]
  },
  {
   "cell_type": "code",
   "execution_count": null,
   "metadata": {},
   "outputs": [],
   "source": []
  }
 ],
 "metadata": {
  "anaconda-cloud": {},
  "kernel_info": {
   "name": "python3"
  },
  "kernelspec": {
   "display_name": "Python 3",
   "language": "python",
   "name": "python3"
  },
  "language_info": {
   "codemirror_mode": {
    "name": "ipython",
    "version": 3
   },
   "file_extension": ".py",
   "mimetype": "text/x-python",
   "name": "python",
   "nbconvert_exporter": "python",
   "pygments_lexer": "ipython3",
   "version": "3.8.5"
  },
  "latex_envs": {
   "LaTeX_envs_menu_present": true,
   "autoclose": false,
   "autocomplete": true,
   "bibliofile": "biblio.bib",
   "cite_by": "apalike",
   "current_citInitial": 1,
   "eqLabelWithNumbers": true,
   "eqNumInitial": 1,
   "hotkeys": {
    "equation": "Ctrl-E",
    "itemize": "Ctrl-I"
   },
   "labels_anchors": false,
   "latex_user_defs": false,
   "report_style_numbering": false,
   "user_envs_cfg": false
  },
  "nteract": {
   "version": "0.12.3"
  }
 },
 "nbformat": 4,
 "nbformat_minor": 2
}
